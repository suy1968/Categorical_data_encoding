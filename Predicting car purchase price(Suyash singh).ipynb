{
 "cells": [
  {
   "cell_type": "markdown",
   "metadata": {},
   "source": [
    "# SUYASH PRATAP SINGH"
   ]
  },
  {
   "cell_type": "markdown",
   "metadata": {},
   "source": [
    "# TASK Predicting Car Purchase Price"
   ]
  },
  {
   "cell_type": "markdown",
   "metadata": {},
   "source": [
    "# Import Library"
   ]
  },
  {
   "cell_type": "code",
   "execution_count": 1,
   "metadata": {},
   "outputs": [],
   "source": [
    "import numpy as np\n",
    "import pandas as pd"
   ]
  },
  {
   "cell_type": "markdown",
   "metadata": {},
   "source": [
    "# Loading and Reading the Dataset"
   ]
  },
  {
   "cell_type": "code",
   "execution_count": 2,
   "metadata": {},
   "outputs": [],
   "source": [
    "df=pd.read_csv(r'C:\\Users\\Admin\\Desktop\\Car_Purchasing_Data1.txt')\n",
    "x=df.iloc[:,2:8].values\n",
    "y=df.iloc[:,8:].values"
   ]
  },
  {
   "cell_type": "markdown",
   "metadata": {},
   "source": [
    "# Categorical Encoding(Onehot and label encoder)"
   ]
  },
  {
   "cell_type": "code",
   "execution_count": 3,
   "metadata": {},
   "outputs": [],
   "source": [
    "from sklearn.preprocessing import LabelEncoder, OneHotEncoder\n",
    "LabelEncoder_x=LabelEncoder()\n",
    "x[:,0]=LabelEncoder_x.fit_transform(x[:,0])"
   ]
  },
  {
   "cell_type": "markdown",
   "metadata": {},
   "source": [
    "# Normalise data"
   ]
  },
  {
   "cell_type": "code",
   "execution_count": 4,
   "metadata": {},
   "outputs": [],
   "source": [
    "x=np.array(x).T.astype(float)\n",
    "for i in range(x.shape[0]):\n",
    "    x[i]=x[i]/np.max(x[i])\n",
    "y=np.array(y).T.astype(float)"
   ]
  },
  {
   "cell_type": "markdown",
   "metadata": {},
   "source": [
    "# splitting data in test/training the dataset"
   ]
  },
  {
   "cell_type": "code",
   "execution_count": 5,
   "metadata": {},
   "outputs": [],
   "source": [
    "x_train=x[:,:400]\n",
    "x_test=x[:,400:]\n",
    "y_train=y[:,:400]\n",
    "y_test=y[:,400:]"
   ]
  },
  {
   "cell_type": "markdown",
   "metadata": {},
   "source": [
    "# initialise weight and bias "
   ]
  },
  {
   "cell_type": "code",
   "execution_count": 6,
   "metadata": {},
   "outputs": [],
   "source": [
    "w=np.random.randn(1,6)*0.01\n",
    "adw=np.zeros((1,6))\n",
    "b=0\n",
    "adb=0"
   ]
  },
  {
   "cell_type": "markdown",
   "metadata": {},
   "source": [
    "# Function and derivative"
   ]
  },
  {
   "cell_type": "code",
   "execution_count": 7,
   "metadata": {},
   "outputs": [],
   "source": [
    "def relu(z):\n",
    "    return np.where(z>0,z,0)\n",
    "\n",
    "def relu_(z):\n",
    "    return np.where(z>0,1,0)\n",
    "\n",
    "def cost(y,yhat):\n",
    "    return np.sum((((y-yhat)**2)/2))/y.shape[1]\n",
    "\n",
    "def cost_(y,yhat):\n",
    "    return yhat-y"
   ]
  },
  {
   "cell_type": "markdown",
   "metadata": {},
   "source": [
    "# Initialise epoch"
   ]
  },
  {
   "cell_type": "code",
   "execution_count": 8,
   "metadata": {},
   "outputs": [],
   "source": [
    "def epoch(training_size,epoch_size,parameter,x1,y1):\n",
    "    if training_size%epoch_size==0:\n",
    "        size=training_size/epoch_size\n",
    "        num_epoch=size\n",
    "        for i in range(1,size+1):\n",
    "            parameter[\"x\"+str(i)]=x1[:,(i-1)*epoch_size:i*epoch_size]\n",
    "            parameter[\"y\"+str(i)]=y1[:,(i-1)*epoch_size:i*epoch_size]\n",
    "        return parameter,num_epoch\n",
    "    size=training_size//epoch_size\n",
    "    num_epoch=size+1\n",
    "    for i in range(1,size+1):\n",
    "        parameter[\"x\"+str(i)]=x1[:,(i-1)*epoch_size:i*epoch_size]\n",
    "        parameter[\"y\"+str(i)]=y1[:,(i-1)*epoch_size:i*epoch_size]\n",
    "    parameter[\"x\"+str(size+1)]=x1[:,size*epoch_size:-1]\n",
    "    parameter[\"y\"+str(size+1)]=y1[:,size*epoch_size:-1]\n",
    "    return parameter,num_epoch"
   ]
  },
  {
   "cell_type": "markdown",
   "metadata": {},
   "source": [
    "# Forward propagation"
   ]
  },
  {
   "cell_type": "code",
   "execution_count": 9,
   "metadata": {},
   "outputs": [],
   "source": [
    "def forward_propagation(w,b,x):\n",
    "    yhat=relu(np.dot(w,x)+b)\n",
    "    return yhat"
   ]
  },
  {
   "cell_type": "markdown",
   "metadata": {},
   "source": [
    "# Back propagation"
   ]
  },
  {
   "cell_type": "code",
   "execution_count": 10,
   "metadata": {},
   "outputs": [],
   "source": [
    "def back_propagation(yhat,y,x,m):\n",
    "    dz=cost_(y,yhat)*relu_(yhat)\n",
    "    dw=np.dot(dz,x.T)/m\n",
    "    db=np.sum(dz,axis=1,keepdims=True)/m\n",
    "    return dw,db"
   ]
  },
  {
   "cell_type": "markdown",
   "metadata": {},
   "source": [
    "# Adam optimizer"
   ]
  },
  {
   "cell_type": "code",
   "execution_count": 11,
   "metadata": {},
   "outputs": [],
   "source": [
    "def adam(dw,db,beta=0.9):\n",
    "    global adw,adb\n",
    "    adw=beta*adw+(1-beta)*dw\n",
    "    adb=beta*adb+(1-beta)*db\n",
    "    return adw,adb"
   ]
  },
  {
   "cell_type": "markdown",
   "metadata": {},
   "source": [
    "# Gradiant descent"
   ]
  },
  {
   "cell_type": "code",
   "execution_count": 12,
   "metadata": {},
   "outputs": [],
   "source": [
    "\n",
    "def gradiant_discent(w,b,dw,db,alpha):\n",
    "    adw,adb=adam(dw,db)\n",
    "    w=w-alpha*adw\n",
    "    b=b-alpha*adb\n",
    "    return w,b"
   ]
  },
  {
   "cell_type": "markdown",
   "metadata": {},
   "source": [
    "# Training data"
   ]
  },
  {
   "cell_type": "code",
   "execution_count": 13,
   "metadata": {},
   "outputs": [],
   "source": [
    "#training data\n",
    "def start_training(w,b,num_epoch,parameter,alpha):\n",
    "    for i in range(1,num_epoch+1):\n",
    "        x=parameter[\"x\"+str(i)]\n",
    "        y=parameter[\"y\"+str(i)]\n",
    "        yhat=forward_propagation(w,b,x)\n",
    "        dw,db=back_propagation(yhat,y,x,y.shape[1])\n",
    "        w,b=gradiant_discent(w,b,dw,db,alpha)\n",
    "    return w,b"
   ]
  },
  {
   "cell_type": "markdown",
   "metadata": {},
   "source": [
    "# TRAIN Dataset"
   ]
  },
  {
   "cell_type": "code",
   "execution_count": 14,
   "metadata": {},
   "outputs": [],
   "source": [
    "\n",
    "def train(w,b,x_train,y_train):\n",
    "    parameter={}\n",
    "    epoch_size=32\n",
    "    parameter,num_epoch=epoch(x_train.shape[1],epoch_size,parameter,x_train,y_train)\n",
    "    num_iteration=10000\n",
    "    alpha=0.1\n",
    "    for i in range(1,num_iteration+1):\n",
    "        w,b=start_training(w,b,num_epoch,parameter,alpha)\n",
    "        yhat=forward_propagation(w,b,x_train)\n",
    "        if i%1000==0:\n",
    "            print(\"At\",i,\"th iteration cost ===>>>\",cost(y_train,yhat))\n",
    "            acc=0\n",
    "            for j in range(y_train.shape[1]):\n",
    "                if yhat[0][j]-y_train[0][j]<=3 and yhat[0][j]-y_train[0][j]>=-3:\n",
    "                    acc+=1\n",
    "            print(\"Accuracy at\",i,\"th iteration is\",acc*100/y_train.shape[1],\"%\")\n",
    "    return w,b"
   ]
  },
  {
   "cell_type": "markdown",
   "metadata": {},
   "source": [
    "# Test data"
   ]
  },
  {
   "cell_type": "code",
   "execution_count": 15,
   "metadata": {},
   "outputs": [],
   "source": [
    "\n",
    "def start_test(w,b,x,y):\n",
    "    yhat=forward_propagation(w,b,x)\n",
    "    acc=0\n",
    "    for j in range(y_test.shape[1]):\n",
    "        if yhat[0][j]-y_test[0][j]<=3 and yhat[0][j]-y_test[0][j]>=-3:\n",
    "            acc+=1\n",
    "    print(\"Accuracy on test set is\",acc*100/y.shape[1],\"%\")"
   ]
  },
  {
   "cell_type": "markdown",
   "metadata": {},
   "source": [
    "# Application  and Accuracy of the dataset"
   ]
  },
  {
   "cell_type": "code",
   "execution_count": 16,
   "metadata": {},
   "outputs": [
    {
     "name": "stdout",
     "output_type": "stream",
     "text": [
      "At 1000 th iteration cost ===>>> 2.2737992035419143\n",
      "Accuracy at 1000 th iteration is 85.0 %\n",
      "At 2000 th iteration cost ===>>> 1.1595970020048143\n",
      "Accuracy at 2000 th iteration is 94.0 %\n",
      "At 3000 th iteration cost ===>>> 1.1596004102971385\n",
      "Accuracy at 3000 th iteration is 94.0 %\n",
      "At 4000 th iteration cost ===>>> 1.1596004110217226\n",
      "Accuracy at 4000 th iteration is 94.0 %\n",
      "At 5000 th iteration cost ===>>> 1.1596004110217226\n",
      "Accuracy at 5000 th iteration is 94.0 %\n",
      "At 6000 th iteration cost ===>>> 1.1596004110217226\n",
      "Accuracy at 6000 th iteration is 94.0 %\n",
      "At 7000 th iteration cost ===>>> 1.1596004110217226\n",
      "Accuracy at 7000 th iteration is 94.0 %\n",
      "At 8000 th iteration cost ===>>> 1.1596004110217226\n",
      "Accuracy at 8000 th iteration is 94.0 %\n",
      "At 9000 th iteration cost ===>>> 1.1596004110217226\n",
      "Accuracy at 9000 th iteration is 94.0 %\n",
      "At 10000 th iteration cost ===>>> 1.1596004110217226\n",
      "Accuracy at 10000 th iteration is 94.0 %\n"
     ]
    }
   ],
   "source": [
    "w,b=train(w,b,x_train,y_train)"
   ]
  },
  {
   "cell_type": "markdown",
   "metadata": {},
   "source": [
    "# Accuracy of test dataset"
   ]
  },
  {
   "cell_type": "code",
   "execution_count": 17,
   "metadata": {},
   "outputs": [
    {
     "name": "stdout",
     "output_type": "stream",
     "text": [
      "Accuracy on test set is 98.0 %\n"
     ]
    }
   ],
   "source": [
    "start_test(w,b,x_test,y_test)"
   ]
  },
  {
   "cell_type": "markdown",
   "metadata": {},
   "source": [
    "# Thank You"
   ]
  }
 ],
 "metadata": {
  "kernelspec": {
   "display_name": "Python 3",
   "language": "python",
   "name": "python3"
  },
  "language_info": {
   "codemirror_mode": {
    "name": "ipython",
    "version": 3
   },
   "file_extension": ".py",
   "mimetype": "text/x-python",
   "name": "python",
   "nbconvert_exporter": "python",
   "pygments_lexer": "ipython3",
   "version": "3.8.1"
  }
 },
 "nbformat": 4,
 "nbformat_minor": 2
}
